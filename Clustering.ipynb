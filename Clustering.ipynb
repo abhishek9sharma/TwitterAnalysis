{
 "cells": [
  {
   "cell_type": "code",
   "execution_count": 1,
   "metadata": {
    "collapsed": true
   },
   "outputs": [],
   "source": [
    "import pandas as pd\n",
    "from ge"
   ]
  },
  {
   "cell_type": "code",
   "execution_count": 6,
   "metadata": {},
   "outputs": [
    {
     "data": {
      "text/plain": [
       "0       Weiter geht’s! Heute mit #Rapid #Innovation au...\n",
       "1       If you think to hire someone how is an #expert...\n",
       "2       Want to get more involved with @swopla but cou...\n",
       "3       Knowledge has a beginning but no end. Life lon...\n",
       "4       National Honor Society induction today at #RHS...\n",
       "5       Congrats to our new officer board! We’re excit...\n",
       "6       The greatest DevOps challenge - maturing proce...\n",
       "7       Can I pick 23 &amp; 6 😂😂💨 Wat about you ? #can...\n",
       "8       #Atlanta All your car buying needs🔴🔴#Atlanta #...\n",
       "9       Look at the pride on her face! Jayla is workin...\n",
       "10      This is what 24/7/365 #HVAC #service looks lik...\n",
       "11      Meet our newest Law Enforcement deputies! They...\n",
       "12      Look at this pair of “off white” @VolvoTrucks ...\n",
       "13      @usps online tracking system down ... and hold...\n",
       "14      Your #Welcome To Our #Warm #Home.... The Potte...\n",
       "15      Wanted: Your stories of service! PenFed Digita...\n",
       "16      #Service Our friends @amplify4good are looking...\n",
       "17      Do you work in the service industry?! Let US s...\n",
       "18      Love this - in fact experienced this at the we...\n",
       "19      Our Middle School service passion group passed...\n",
       "20      Lots of people say be nice to those in the #se...\n",
       "21      Its always great seeing my good friends ⁦@Bake...\n",
       "22      Surf &amp; Sand Resort’s Food &amp; Beverage D...\n",
       "23      Tip of the Day - What District Parts and Servi...\n",
       "24      Congratulations to A'aisha - fantastic achieve...\n",
       "25      Tuesday 12th February is Dress Down Day in aid...\n",
       "26      Thank you to @Staracademies for providing earl...\n",
       "27      RIP Jonathan Farmer. Our hearts and prayers go...\n",
       "28      Congratulations to @tauheedulboys student Uday...\n",
       "29      📢 Calling all #military #veteran and #lawenfor...\n",
       "                              ...                        \n",
       "1445    Maximize healthcare #dataprotection while you ...\n",
       "1446    Your new life is going to cost you your old on...\n",
       "1447    Cloudway with #SAP S/4 #HANA provides you #cos...\n",
       "1448    Driving through Lyell Pancake Rocks and restin...\n",
       "1449    NEW research: The potential impact and #cost-e...\n",
       "1450    Dear all we´re proud to announce that the Dire...\n",
       "1451    Excellent discussion abt #Transparency in #inf...\n",
       "1452    #Jóvenes ven a la iniciativa #CoST como la her...\n",
       "1453    How much do these Sins cost companies each yea...\n",
       "1454    sneak peak #4...one of Mike’s favorite topics....\n",
       "1455    Godfrey Miri just shook one strong table #cost...\n",
       "1456    Many thanks to @skegnesstownfc for the hospita...\n",
       "1457    Looking for the best choice of #cover for your...\n",
       "1458    To all those protesting what media is covering...\n",
       "1459    #सरकार ने #ईडब्ल्यूएस #आरक्षण की निर्णय प्रक्र...\n",
       "1460    आर्थिक रूप से पिछड़े सवर्णो को 10 प्रतिशत आरक्...\n",
       "1461    కాపుల బిల్లు సభాప్రవేశం.వారికి 5శాతం రిజర్వేషన...\n",
       "1462    in #federal_loan_guarantees.\" @realDonaldTrump...\n",
       "1463    #GurjarReservationOnTrack दौसा के सिकराय से खब...\n",
       "1464    https://t.co/manIHbzwze - Our patented #tbox t...\n",
       "1465    #GurjarReservationOnTrack 'जब तक पूर्ण रूप से ...\n",
       "1466    #GurjarReservationOnTrack #Dausa  : मनफूल सिंह...\n",
       "1467    #GurjarReservationOnTrack   दौसा के सिकंदरा व ...\n",
       "1468    #GurjarReservationOnTrack  दौसा के बांदीकुई से...\n",
       "1469    Votre #enfant a entre 6 et 14 ans ? Nous l'inv...\n",
       "1470    #Jaipur डिप्टी सीएम @SachinPilot होंगे प्रेस स...\n",
       "1471    Rajasthan govt to table bills giving 5% quota ...\n",
       "1472    It's confirmed! No age relaxation under #Upper...\n",
       "1473    #Shamli : शामली में #Gujjar समाज के लोगो ने रा...\n",
       "1474    मराठा समाजाला या आरक्षणाचा फायदा कसा घेता येईल...\n",
       "Name: content, Length: 1475, dtype: object"
      ]
     },
     "execution_count": 6,
     "metadata": {},
     "output_type": "execute_result"
    }
   ],
   "source": [
    "tw_df = pd.read_csv('Data/alltweets.csv',sep=',')\n",
    "tw_df['content']"
   ]
  }
 ],
 "metadata": {
  "kernelspec": {
   "display_name": "Python 3",
   "language": "python",
   "name": "python3"
  },
  "language_info": {
   "codemirror_mode": {
    "name": "ipython",
    "version": 3
   },
   "file_extension": ".py",
   "mimetype": "text/x-python",
   "name": "python",
   "nbconvert_exporter": "python",
   "pygments_lexer": "ipython3",
   "version": "3.6.8"
  }
 },
 "nbformat": 4,
 "nbformat_minor": 2
}
